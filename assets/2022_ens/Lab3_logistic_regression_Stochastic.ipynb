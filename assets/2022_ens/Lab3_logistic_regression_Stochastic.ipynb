{
 "cells": [
  {
   "cell_type": "markdown",
   "id": "62288fa5",
   "metadata": {},
   "source": [
    "# Lab 3: Logistic regression: stochastic methods\n",
    "\n",
    "Let $A \\in \\mathbb{R}^{n \\times d}$ and $b \\in \\{-1, 1\\}^n$. \n",
    "The logistic regression estimator for classification is defined as:\n",
    "$$ \\min_{x \\in \\mathbb{R}^d} \\sum_{i=1}^n \\{f_i(x) = \\log (1 + e^{- b_i \\ a_i^\\top x})\\} $$"
   ]
  },
  {
   "cell_type": "code",
   "execution_count": null,
   "id": "9417736f",
   "metadata": {},
   "outputs": [],
   "source": [
    "import numpy as np\n",
    "from numpy.linalg import norm\n",
    "\n",
    "def make_data(n, d, prop_wrong=0.1, seed=None):\n",
    "    if seed is not None:\n",
    "        np.random.seed(seed)\n",
    "    A = np.random.randn(n, d)\n",
    "    x_true = np.random.randn(d)\n",
    "    \n",
    "    pred_true = np.sign(A @ x_true)\n",
    "    wrong = np.random.choice(n, int(prop_wrong * n), replace=False)\n",
    "    print(len(wrong))\n",
    "    pred_true[wrong] *= - 1\n",
    "    return A, pred_true"
   ]
  },
  {
   "cell_type": "markdown",
   "id": "905d0c8a",
   "metadata": {},
   "source": [
    "0. Compute the gradient with respect to one sample only."
   ]
  },
  {
   "cell_type": "code",
   "execution_count": null,
   "id": "aa43101f",
   "metadata": {},
   "outputs": [],
   "source": [
    "A, b = make_data(200, 50, prop_wrong=0.1, seed=0)"
   ]
  },
  {
   "cell_type": "markdown",
   "id": "0ad18e1b",
   "metadata": {},
   "source": [
    "1. Implement stochastic gradient descent for this problem. test it with fixed and decaying stepsizes. To ease the question, you can do convergence plot in terms of single gradient computations. Comment the behavior."
   ]
  },
  {
   "cell_type": "markdown",
   "id": "35acd502",
   "metadata": {},
   "source": [
    "2. Implement SAG, SAGA and SVRG. Compare their behaviors in terms of single gradient computations."
   ]
  },
  {
   "cell_type": "code",
   "execution_count": null,
   "id": "e54a0fd9",
   "metadata": {},
   "outputs": [],
   "source": []
  }
 ],
 "metadata": {
  "kernelspec": {
   "display_name": "Python 3 (ipykernel)",
   "language": "python",
   "name": "python3"
  },
  "language_info": {
   "codemirror_mode": {
    "name": "ipython",
    "version": 3
   },
   "file_extension": ".py",
   "mimetype": "text/x-python",
   "name": "python",
   "nbconvert_exporter": "python",
   "pygments_lexer": "ipython3",
   "version": "3.9.7"
  },
  "vscode": {
   "interpreter": {
    "hash": "dc07d24e2f18896857f0b2a651fe84ba40ce7b297e58d8804a308c8039f752a6"
   }
  }
 },
 "nbformat": 4,
 "nbformat_minor": 5
}
