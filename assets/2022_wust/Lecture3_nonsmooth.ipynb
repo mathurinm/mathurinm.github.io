{
 "cells": [
  {
   "cell_type": "markdown",
   "id": "7c5b5573",
   "metadata": {},
   "source": [
    "# Non smooth optimization: the proximal gradient method\n",
    "\n",
    "Author: Mathurin Massias, Inria"
   ]
  },
  {
   "cell_type": "code",
   "execution_count": null,
   "id": "4463d33e",
   "metadata": {},
   "outputs": [],
   "source": [
    "import numpy as np \n",
    "from numpy.linalg import norm \n",
    "from sklearn.linear_model import Lasso\n",
    "\n",
    "import matplotlib.pyplot as plt \n",
    "%matplotlib inline"
   ]
  },
  {
   "cell_type": "code",
   "execution_count": null,
   "id": "0f181d25",
   "metadata": {},
   "outputs": [],
   "source": [
    "n_samples, n_features = 100, 100\n",
    "X = np.random.randn(n_samples, n_features)\n",
    "y = np.random.randn(n_samples)\n",
    "\n",
    "\n",
    "def soft_thresholding(u, tau):\n",
    "    \"\"\"Proximal operator of tau * L1 norm\"\"\"\n",
    "    return np.sign(u) * np.maximum(0, np.abs(u) - tau)"
   ]
  },
  {
   "cell_type": "code",
   "execution_count": null,
   "id": "56541470",
   "metadata": {},
   "outputs": [],
   "source": [
    "def ista(X, y, lmbda, n_iter=100):\n",
    "    L = np.linalg.norm(X, ord=2) ** 2\n",
    "    beta = np.zeros(X.shape[1])\n",
    "    objs = np.zeros(n_iter)\n",
    "    for it in range(n_iter):\n",
    "        beta = soft_thresholding(beta - 1 / L * X.T @ (X @ beta - y), lmbda/L)\n",
    "        objs[it] = norm(y - X @ beta) ** 2 / 2 + lmbda * norm(beta, 1)\n",
    "    return beta, objs"
   ]
  },
  {
   "cell_type": "code",
   "execution_count": null,
   "id": "41e748fc",
   "metadata": {},
   "outputs": [],
   "source": [
    "lmbda = norm(X.T @ y, ord=np.inf) / 3"
   ]
  },
  {
   "cell_type": "code",
   "execution_count": null,
   "id": "63a50a4b",
   "metadata": {},
   "outputs": [],
   "source": [
    "beta, objs = ista(X, y, lmbda)"
   ]
  },
  {
   "cell_type": "code",
   "execution_count": null,
   "id": "8f02ab1e",
   "metadata": {},
   "outputs": [],
   "source": [
    "clf = Lasso(alpha=lmbda/len(y), fit_intercept=False, tol=1e-10).fit(X, y)\n",
    "beta_star = clf.coef_"
   ]
  },
  {
   "cell_type": "code",
   "execution_count": null,
   "id": "fa77f6a8",
   "metadata": {},
   "outputs": [],
   "source": [
    "fig, axarr = plt.subplots(1, 2, figsize=(10, 4), sharey=True)\n",
    "axarr[0].stem(beta_star)\n",
    "axarr[1].stem(beta)\n",
    "\n",
    "axarr[0].set_ylabel(\"coefficient value $\\\\beta_j$\")\n",
    "axarr[0].set_title(\"sklearn results\")\n",
    "axarr[1].set_title(\"ISTA results\")\n",
    "for ax in axarr:\n",
    "    ax.set_xlabel(\"coefficient index $j$\")"
   ]
  },
  {
   "cell_type": "code",
   "execution_count": null,
   "id": "da3fa2d8",
   "metadata": {},
   "outputs": [],
   "source": [
    "p_star = norm(y - clf.predict(X)) ** 2 / 2 + lmbda * norm(beta_star, ord=1)\n",
    "plt.semilogy(objs - p_star)\n",
    "plt.xlabel(\"iteration\")\n",
    "plt.ylabel(\"suboptimality of ISTA iterates\");"
   ]
  },
  {
   "cell_type": "code",
   "execution_count": null,
   "id": "cbf3959e",
   "metadata": {},
   "outputs": [],
   "source": []
  },
  {
   "cell_type": "code",
   "execution_count": null,
   "id": "a64f322f",
   "metadata": {},
   "outputs": [],
   "source": []
  },
  {
   "cell_type": "code",
   "execution_count": null,
   "id": "22b14cc6",
   "metadata": {},
   "outputs": [],
   "source": []
  }
 ],
 "metadata": {
  "kernelspec": {
   "display_name": "Python 3 (ipykernel)",
   "language": "python",
   "name": "python3"
  },
  "language_info": {
   "codemirror_mode": {
    "name": "ipython",
    "version": 3
   },
   "file_extension": ".py",
   "mimetype": "text/x-python",
   "name": "python",
   "nbconvert_exporter": "python",
   "pygments_lexer": "ipython3",
   "version": "3.9.7"
  }
 },
 "nbformat": 4,
 "nbformat_minor": 5
}
