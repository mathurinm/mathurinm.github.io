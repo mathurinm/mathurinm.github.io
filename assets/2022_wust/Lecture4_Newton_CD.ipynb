{
 "cells": [
  {
   "cell_type": "markdown",
   "id": "29d7a853",
   "metadata": {},
   "source": [
    "# Alternatives to gradient descent\n",
    "\n",
    "\n",
    "Author: Mathurin Massias, Inria"
   ]
  },
  {
   "cell_type": "code",
   "execution_count": null,
   "id": "52b284e6",
   "metadata": {},
   "outputs": [],
   "source": [
    "import numpy as np \n",
    "import matplotlib.pyplot as plt \n",
    "from ipywidgets import FloatSlider, interact\n",
    "%matplotlib inline\n",
    "\n",
    "from matplotlib import rcParams \n",
    "rcParams[\"font.size\"] = 16"
   ]
  },
  {
   "cell_type": "markdown",
   "id": "13ce513a",
   "metadata": {},
   "source": [
    "## Newton's method"
   ]
  },
  {
   "cell_type": "markdown",
   "id": "9629cdcd",
   "metadata": {},
   "source": [
    "\n",
    "Newton's method iterations to minimize a function $f$ read $x_k = x_k - [\\nabla^2 f(x_k)]^{-1} \\nabla f(x_k)$ (somehow similar to gradient descent, but the gradient direction is modified by application of the inverse Hessian. \n",
    "\n",
    "Let's see its behavior on \n",
    "$f(x) = \\sqrt{1 + x^2}$. One has: \n",
    "\n",
    "$$f'(x) = \\frac{x}{\\sqrt{1 + x^2}}$$ \n",
    "$$f''(x) = \\frac{\\sqrt{1 + x^2} - x \\cdot x / \\sqrt{1 + x^2}}{\\sqrt{1 + x^2}} = \\frac{1}{(1 + x^2)^{3/2}}$$\n",
    "\n",
    "So Newton iteration read:\n",
    "$$x_{k+1} = x_k - \\frac{f'(x_k)}{f''(x_k)} = x_k - (1 + x_k^2) x_k = - x_k^3$$\n",
    "\n",
    "\n",
    "Depending on the starting point we will get very fast convergence, oscillations, or very fast divergence!"
   ]
  },
  {
   "cell_type": "code",
   "execution_count": null,
   "id": "d1b87b76",
   "metadata": {},
   "outputs": [],
   "source": [
    "def plot_newton(x0):\n",
    "    x = x0\n",
    "    all_x = np.zeros(5)\n",
    "    for i in range(5):\n",
    "        all_x[i] = x\n",
    "        x = - x ** 3\n",
    "    \n",
    "    a = np.linspace(-10, 10, num=100)\n",
    "    fig, axarr =  plt.subplots(1, 2, figsize=(10, 4), constrained_layout=True)\n",
    "    axarr[0].plot(a, np.sqrt(1 + a**2))\n",
    "    axarr[0].scatter(all_x, np.sqrt(1 + all_x ** 2), c=plt.get_cmap(\"viridis\")(np.linspace(0, 1, 5)))\n",
    "    axarr[0].set_xlabel(\"x\")\n",
    "    axarr[0].set_ylabel(\"f(x)\")\n",
    "    axarr[1].semilogy(np.sqrt(1 + all_x ** 2) - 1)\n",
    "    axarr[1].set_xlabel(\"iteration\")\n",
    "    axarr[1].set_ylabel(\"suboptimalty $f(x_k) - f(x^*)$\")\n",
    "    "
   ]
  },
  {
   "cell_type": "code",
   "execution_count": null,
   "id": "7df5e352",
   "metadata": {},
   "outputs": [],
   "source": [
    "interact(plot_newton, x0=FloatSlider(min=0.95, max=1.05, step=0.01))"
   ]
  },
  {
   "cell_type": "code",
   "execution_count": null,
   "id": "ece9cfc0",
   "metadata": {},
   "outputs": [],
   "source": []
  }
 ],
 "metadata": {
  "kernelspec": {
   "display_name": "Python 3 (ipykernel)",
   "language": "python",
   "name": "python3"
  },
  "language_info": {
   "codemirror_mode": {
    "name": "ipython",
    "version": 3
   },
   "file_extension": ".py",
   "mimetype": "text/x-python",
   "name": "python",
   "nbconvert_exporter": "python",
   "pygments_lexer": "ipython3",
   "version": "3.9.7"
  }
 },
 "nbformat": 4,
 "nbformat_minor": 5
}
